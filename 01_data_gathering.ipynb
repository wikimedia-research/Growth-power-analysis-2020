{
 "cells": [
  {
   "cell_type": "markdown",
   "metadata": {},
   "source": [
    "# Data Gathering for Power Analysis\n",
    "\n",
    "We've previously done power analyses for the Growth Team based on registration data from 2018. In this case, we want an updated analysis with more wikis, in order to understand how expanding to additional wikis will impact our statistical power.\n",
    "\n",
    "This work is tracked in [T250120](https://phabricator.wikimedia.org/T250120).\n",
    "\n",
    "The task asks to compare four groups of wikis:\n",
    "\n",
    "* Original target wikis: Czech, Korean, Arabic, Vietnamese\n",
    "* Current set: Czech, Korean, Arabic, Vietnamese, Ukrainian, Hungarian, Armenian, Basque\n",
    "* Adding just French: Czech, Korean, Arabic, Vietnamese, Ukrainian, Hungarian, Armenian, Basque, French\n",
    "* Adding our next set: Czech, Korean, Arabic, Vietnamese, Ukrainian, Hungarian, Armenian, Basque, French, Polish, Persian, Swedish, Danish, Indonesian, Italian, Portuguese.\n",
    "\n",
    "The first part of this is to gather registration, activation, and retention numbers for those wikis, for both desktop and mobile registrations."
   ]
  },
  {
   "cell_type": "code",
   "execution_count": 1,
   "metadata": {},
   "outputs": [],
   "source": [
    "import datetime as dt\n",
    "\n",
    "import pandas as pd\n",
    "import numpy as np\n",
    "\n",
    "from wmfdata import hive"
   ]
  },
  {
   "cell_type": "code",
   "execution_count": 8,
   "metadata": {},
   "outputs": [],
   "source": [
    "## Configuration variables\n",
    "\n",
    "## Original target, then the next four, then the additional set\n",
    "wikis = ['cswiki', 'kowiki', 'viwiki', 'arwiki',\n",
    "         'ukwiki', 'huwiki', 'hywiki', 'euwiki',\n",
    "         'frwiki', 'plwiki', 'fawiki', 'svwiki',\n",
    "         'dawiki', 'idwiki', 'itwiki', 'ptwiki']\n",
    "\n",
    "## Activity tends to follow a yearly cycle, so let's use that.\n",
    "start_date = '2019-01-01'\n",
    "end_date = '2020-01-01'\n",
    "\n",
    "## The mediawiki_history snapshot that we'll be using\n",
    "snapshot = '2020-03'"
   ]
  },
  {
   "cell_type": "code",
   "execution_count": 13,
   "metadata": {},
   "outputs": [],
   "source": [
    "activity_query = '''\n",
    "WITH regs AS (\n",
    "    SELECT wiki_db, event_user_id,\n",
    "           date_format(event_user_creation_timestamp, \"yyyy-MM-01\") as reg_month\n",
    "    FROM wmf.mediawiki_history\n",
    "    WHERE snapshot = \"{snapshot}\"\n",
    "    AND event_entity = \"user\"\n",
    "    AND event_type = \"create\"\n",
    "    AND event_user_is_created_by_self = TRUE\n",
    "    AND size(event_user_is_bot_by_historical) = 0\n",
    "    AND wiki_db IN ({wiki_list})\n",
    "    AND event_user_creation_timestamp >= \"{start_time}\"\n",
    "    AND event_user_creation_timestamp < \"{end_time}\"\n",
    "),\n",
    "mobile_data AS (\n",
    "    SELECT wiki AS wiki_db,\n",
    "           event.userid AS user_id,\n",
    "           IF(event.displaymobile, 'mobile', 'desktop') AS platform\n",
    "    FROM event_sanitized.serversideaccountcreation\n",
    "    WHERE year = 2019\n",
    "    AND wiki IN ({wiki_list})\n",
    "    AND event.isselfmade = true\n",
    "),\n",
    "edits AS (\n",
    "    SELECT wiki_db, event_user_id,\n",
    "    SUM(IF(unix_timestamp(event_timestamp) -\n",
    "           unix_timestamp(event_user_creation_timestamp) < 86400 , 1, 0)) AS activation_edits,\n",
    "    SUM(IF(unix_timestamp(event_timestamp) - unix_timestamp(event_user_creation_timestamp)\n",
    "           BETWEEN 86400 AND 15*86400, 1, 0)) AS retention_edits\n",
    "    FROM wmf.mediawiki_history\n",
    "    WHERE snapshot = \"{snapshot}\"\n",
    "    AND event_entity = \"revision\"\n",
    "    AND event_type = \"create\"\n",
    "    AND wiki_db IN ({wiki_list})\n",
    "    AND event_user_creation_timestamp >= \"{start_time}\"\n",
    "    AND event_user_creation_timestamp < \"{end_time}\"\n",
    "    AND SIZE(event_user_is_bot_by_historical) = 0\n",
    "    GROUP BY wiki_db, event_user_id\n",
    ")\n",
    "SELECT regs.wiki_db,\n",
    "       regs.event_user_id AS user_id,\n",
    "       regs.reg_month,\n",
    "       mobile_data.platform,\n",
    "       coalesce(edits.activation_edits, 0) AS activation_edits,\n",
    "       coalesce(edits.retention_edits, 0) AS retention_edits\n",
    "FROM regs\n",
    "JOIN mobile_data\n",
    "ON regs.wiki_db = mobile_data.wiki_db\n",
    "AND regs.event_user_id = mobile_data.user_id\n",
    "LEFT JOIN edits\n",
    "ON regs.wiki_db = edits.wiki_db\n",
    "AND regs.event_user_id = edits.event_user_id\n",
    "'''"
   ]
  },
  {
   "cell_type": "markdown",
   "metadata": {},
   "source": [
    "Grab user activity data:"
   ]
  },
  {
   "cell_type": "code",
   "execution_count": 14,
   "metadata": {},
   "outputs": [],
   "source": [
    "user_activity = hive.run(activity_query.format(\n",
    "    snapshot = snapshot,\n",
    "    wiki_list = ','.join('\"{}\"'.format(w) for w in wikis),\n",
    "    start_time = start_date,\n",
    "    end_time = end_date\n",
    "))"
   ]
  },
  {
   "cell_type": "markdown",
   "metadata": {},
   "source": [
    "Add boolean flags for whether a user is activated or retained:"
   ]
  },
  {
   "cell_type": "code",
   "execution_count": 16,
   "metadata": {},
   "outputs": [],
   "source": [
    "user_activity['is_activated'] = user_activity['activation_edits'] > 0\n",
    "user_activity['is_retained'] = user_activity['is_activated'] & (user_activity['retention_edits'] > 0)"
   ]
  },
  {
   "cell_type": "markdown",
   "metadata": {},
   "source": [
    "Aggregate per wiki, platform, and month of registration counts of registrations, activations, and retentions:"
   ]
  },
  {
   "cell_type": "code",
   "execution_count": 23,
   "metadata": {},
   "outputs": [],
   "source": [
    "registrations_agg = (user_activity.groupby(['wiki_db', 'reg_month', 'platform'])\n",
    "                     .agg({'user_id' : 'count'})\n",
    "                     .rename(columns = {'user_id' : 'n_registered'}))"
   ]
  },
  {
   "cell_type": "code",
   "execution_count": 24,
   "metadata": {},
   "outputs": [],
   "source": [
    "activations_agg = (user_activity.loc[user_activity['is_activated'] == True]\n",
    "                   .groupby(['wiki_db', 'reg_month', 'platform'])\n",
    "                   .agg({'user_id' : 'count'})\n",
    "                   .rename(columns = {'user_id' : 'n_activated'}))"
   ]
  },
  {
   "cell_type": "code",
   "execution_count": 25,
   "metadata": {},
   "outputs": [],
   "source": [
    "retentions_agg = (user_activity.loc[user_activity['is_retained'] == True]\n",
    "                  .groupby(['wiki_db', 'reg_month', 'platform'])\n",
    "                  .agg({'user_id' : 'count'})\n",
    "                  .rename(columns = {'user_id' : 'n_retained'}))"
   ]
  },
  {
   "cell_type": "markdown",
   "metadata": {},
   "source": [
    "Merge the three aggregations to combine:"
   ]
  },
  {
   "cell_type": "code",
   "execution_count": 37,
   "metadata": {},
   "outputs": [],
   "source": [
    "full_data = (registrations_agg.merge(activations_agg, how = 'left', left_index = True, right_index = True)\n",
    "             .merge(retentions_agg, how = 'left', left_index = True, right_index = True)\n",
    "             .fillna(0).reset_index())"
   ]
  },
  {
   "cell_type": "code",
   "execution_count": 38,
   "metadata": {},
   "outputs": [],
   "source": [
    "## Calculate activation and retention proportions\n",
    "\n",
    "full_data['prop_activated'] = full_data['n_activated'] / full_data['n_registered']\n",
    "full_data['prop_retained'] = full_data['n_retained'] / full_data['n_activated']"
   ]
  },
  {
   "cell_type": "markdown",
   "metadata": {},
   "source": [
    "Aggregate over the whole year and calculate monthly averages:"
   ]
  },
  {
   "cell_type": "code",
   "execution_count": 41,
   "metadata": {},
   "outputs": [],
   "source": [
    "fullyear_agg = (full_data.groupby(['wiki_db', 'platform'])\n",
    "                .agg({'n_registered' : 'mean', 'n_activated' : 'mean', 'n_retained' : 'mean',\n",
    "                      'prop_activated' : 'mean', 'prop_retained' : 'mean'})\n",
    "                .reset_index())"
   ]
  },
  {
   "cell_type": "markdown",
   "metadata": {},
   "source": [
    "Write the resulting dataframe out as a TSV for import into R."
   ]
  },
  {
   "cell_type": "code",
   "execution_count": 44,
   "metadata": {},
   "outputs": [],
   "source": [
    "fullyear_agg.to_csv('datasets/aggregate_statistics.tsv',\n",
    "                    header = True, index = False, sep = '\\t')"
   ]
  }
 ],
 "metadata": {
  "kernelspec": {
   "display_name": "Python 3",
   "language": "python",
   "name": "python3"
  },
  "language_info": {
   "codemirror_mode": {
    "name": "ipython",
    "version": 3
   },
   "file_extension": ".py",
   "mimetype": "text/x-python",
   "name": "python",
   "nbconvert_exporter": "python",
   "pygments_lexer": "ipython3",
   "version": "3.5.3"
  }
 },
 "nbformat": 4,
 "nbformat_minor": 4
}
