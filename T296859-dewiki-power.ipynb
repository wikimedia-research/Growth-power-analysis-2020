{
 "cells": [
  {
   "cell_type": "markdown",
   "id": "f44a0c2c",
   "metadata": {},
   "source": [
    "# German Wikipedia Power Analysis\n",
    "\n",
    "Using the registration, activation, and retention statistics from 2020–21 data gathering, do a simplified power analysis for German Wikipedia. We'll be using the `pwr` package in R for these estimates.\n",
    "\n",
    "Note that our statistics include three months of some proportion of users getting some variation of the Growth Features, as that Wikipedia has had the features since August/September 2021. Since we're using 12-month averages, I think we're making reasonable estimates."
   ]
  },
  {
   "cell_type": "code",
   "execution_count": 5,
   "id": "4a1536db",
   "metadata": {},
   "outputs": [
    {
     "name": "stderr",
     "output_type": "stream",
     "text": [
      "── \u001b[1mAttaching packages\u001b[22m ─────────────────────────────────────── tidyverse 1.3.0 ──\n",
      "\n",
      "\u001b[32m✔\u001b[39m \u001b[34mggplot2\u001b[39m 3.3.2     \u001b[32m✔\u001b[39m \u001b[34mpurrr  \u001b[39m 0.3.4\n",
      "\u001b[32m✔\u001b[39m \u001b[34mtibble \u001b[39m 3.0.4     \u001b[32m✔\u001b[39m \u001b[34mdplyr  \u001b[39m 1.0.2\n",
      "\u001b[32m✔\u001b[39m \u001b[34mtidyr  \u001b[39m 1.1.2     \u001b[32m✔\u001b[39m \u001b[34mstringr\u001b[39m 1.4.0\n",
      "\u001b[32m✔\u001b[39m \u001b[34mreadr  \u001b[39m 1.4.0     \u001b[32m✔\u001b[39m \u001b[34mforcats\u001b[39m 0.5.0\n",
      "\n",
      "── \u001b[1mConflicts\u001b[22m ────────────────────────────────────────── tidyverse_conflicts() ──\n",
      "\u001b[31m✖\u001b[39m \u001b[34mdplyr\u001b[39m::\u001b[32mbetween()\u001b[39m   masks \u001b[34mdata.table\u001b[39m::between()\n",
      "\u001b[31m✖\u001b[39m \u001b[34mdplyr\u001b[39m::\u001b[32mfilter()\u001b[39m    masks \u001b[34mstats\u001b[39m::filter()\n",
      "\u001b[31m✖\u001b[39m \u001b[34mdplyr\u001b[39m::\u001b[32mfirst()\u001b[39m     masks \u001b[34mdata.table\u001b[39m::first()\n",
      "\u001b[31m✖\u001b[39m \u001b[34mdplyr\u001b[39m::\u001b[32mlag()\u001b[39m       masks \u001b[34mstats\u001b[39m::lag()\n",
      "\u001b[31m✖\u001b[39m \u001b[34mdplyr\u001b[39m::\u001b[32mlast()\u001b[39m      masks \u001b[34mdata.table\u001b[39m::last()\n",
      "\u001b[31m✖\u001b[39m \u001b[34mpurrr\u001b[39m::\u001b[32mtranspose()\u001b[39m masks \u001b[34mdata.table\u001b[39m::transpose()\n",
      "\n"
     ]
    }
   ],
   "source": [
    "library(tidyverse)\n",
    "library(pwr)\n",
    "library(data.table)"
   ]
  },
  {
   "cell_type": "code",
   "execution_count": 2,
   "id": "57c7fde4",
   "metadata": {},
   "outputs": [],
   "source": [
    "## Lists of effect sizes that we're estimating for.\n",
    "## [2%, 30%] changes in activation\n",
    "## [-30%, 30%] changes in retention\n",
    "\n",
    "activation_deltas <- c(1.02, 1.05, 1.1, 1.2, 1.3)\n",
    "retention_deltas <- c(0.7, 0.8, 0.9, 0.95, 0.98, 1.0, 1.02, 1.05, 1.1, 1.2, 1.3)"
   ]
  },
  {
   "cell_type": "code",
   "execution_count": 6,
   "id": "7cf3d9c0",
   "metadata": {},
   "outputs": [],
   "source": [
    "calc_edit_power <- function(base_proportion, proportion_deltas, N_control,\n",
    "                           sig.level = 0.05, power = 0.8) {\n",
    "    ## Given a base proportion and N users in a control group, for each delta\n",
    "    ## (change in proportion) calculate the number of participants in the treatment\n",
    "    ## group that's needed to achieve a significance level of `sig.level` and power of `power`\n",
    "    \n",
    "    ## Treatment group number of usres\n",
    "    treat_counts <- c()\n",
    "    \n",
    "    for(prop_delta in proportion_deltas) {\n",
    "        treat_counts <- append(\n",
    "            treat_counts,\n",
    "            tryCatch(\n",
    "                pwr.2p2n.test(\n",
    "                    h = ES.h(\n",
    "                        p1 = base_proportion,\n",
    "                        p2 = base_proportion * prop_delta\n",
    "                    ),\n",
    "                    n1 = N_control,\n",
    "                    sig.level = sig.level,\n",
    "                    power = power,\n",
    "                    alternative = 'two.sided'\n",
    "                )$n2,\n",
    "                error = function(e) { return(NA) }\n",
    "            )\n",
    "        )\n",
    "      }\n",
    "      tibble(\n",
    "          delta = proportion_deltas,\n",
    "          n_treatment = treat_counts\n",
    "      )\n",
    "    }"
   ]
  },
  {
   "cell_type": "code",
   "execution_count": 20,
   "id": "0db4a184",
   "metadata": {},
   "outputs": [],
   "source": [
    "calc_power_5050 = function(edit_base, edit_deltas,\n",
    "                           sig.level = 0.05, power = 0.8) {\n",
    "  ## Given an average proportion of registrations\n",
    "  ## who make an edit during a given time span (`edit_base`), and a set of changes in said\n",
    "  ## proportion (`edit_deltas`), calculate the number of participants needed in order to\n",
    "  ## run an experiment with a significance level of `sig.level` and power of `power`.\n",
    "  \n",
    "  deltas = edit_deltas;\n",
    "  ns = c();\n",
    "  \n",
    "  for(edit_delta in edit_deltas) {\n",
    "    ns = append(ns,\n",
    "                tryCatch(pwr.p.test(h = ES.h(p1 = edit_base,\n",
    "                                             p2 = edit_base*edit_delta),\n",
    "                                    sig.level = sig.level,\n",
    "                                    power = power,\n",
    "                                    alternative = 'two.sided')$n,\n",
    "                         error = function(e) return(NA)));\n",
    "  }\n",
    "  data.table(delta = deltas, n = ns);\n",
    "}"
   ]
  },
  {
   "cell_type": "code",
   "execution_count": 17,
   "id": "dd936bf9",
   "metadata": {},
   "outputs": [],
   "source": [
    "## Configuration variables from German Wikipedia\n",
    "\n",
    "# monthly registration rate\n",
    "registration_rate = 8057\n",
    "\n",
    "# activation rate on mobile, the lower of the two (desktop is 43.2%)\n",
    "activation_rate = 0.41\n",
    "\n",
    "# retention rate on mobile, the lower of the two (desktop is 18.8%)\n",
    "retention_rate = 0.107\n",
    "\n",
    "# we're assuming 20% assignment to the Control group\n",
    "control_group_registrations = registration_rate * 0.2\n",
    "treatment_group_registrations = registration_rate * 0.8\n",
    "\n",
    "control_group_activations = control_group_registrations * activation_rate\n",
    "treatment_group_activations = treatment_group_registrations * activation_rate"
   ]
  },
  {
   "cell_type": "code",
   "execution_count": 12,
   "id": "75786847",
   "metadata": {},
   "outputs": [],
   "source": [
    "activation_counts = calc_edit_power(activation_rate, activation_deltas, control_group_registrations)"
   ]
  },
  {
   "cell_type": "code",
   "execution_count": 16,
   "id": "eb4f4702",
   "metadata": {},
   "outputs": [
    {
     "data": {
      "text/html": [
       "<table>\n",
       "<caption>A tibble: 5 × 4</caption>\n",
       "<thead>\n",
       "\t<tr><th scope=col>delta</th><th scope=col>n_treatment</th><th scope=col>n_months</th><th scope=col>n_days</th></tr>\n",
       "\t<tr><th scope=col>&lt;dbl&gt;</th><th scope=col>&lt;dbl&gt;</th><th scope=col>&lt;dbl&gt;</th><th scope=col>&lt;dbl&gt;</th></tr>\n",
       "</thead>\n",
       "<tbody>\n",
       "\t<tr><td>1.02</td><td>       NA</td><td>        NA</td><td>NA</td></tr>\n",
       "\t<tr><td>1.05</td><td>       NA</td><td>        NA</td><td>NA</td></tr>\n",
       "\t<tr><td>1.10</td><td>3944.5589</td><td>0.61197699</td><td>19</td></tr>\n",
       "\t<tr><td>1.20</td><td> 351.1877</td><td>0.05448488</td><td> 2</td></tr>\n",
       "\t<tr><td>1.30</td><td> 139.7709</td><td>0.02168470</td><td> 1</td></tr>\n",
       "</tbody>\n",
       "</table>\n"
      ],
      "text/latex": [
       "A tibble: 5 × 4\n",
       "\\begin{tabular}{llll}\n",
       " delta & n\\_treatment & n\\_months & n\\_days\\\\\n",
       " <dbl> & <dbl> & <dbl> & <dbl>\\\\\n",
       "\\hline\n",
       "\t 1.02 &        NA &         NA & NA\\\\\n",
       "\t 1.05 &        NA &         NA & NA\\\\\n",
       "\t 1.10 & 3944.5589 & 0.61197699 & 19\\\\\n",
       "\t 1.20 &  351.1877 & 0.05448488 &  2\\\\\n",
       "\t 1.30 &  139.7709 & 0.02168470 &  1\\\\\n",
       "\\end{tabular}\n"
      ],
      "text/markdown": [
       "\n",
       "A tibble: 5 × 4\n",
       "\n",
       "| delta &lt;dbl&gt; | n_treatment &lt;dbl&gt; | n_months &lt;dbl&gt; | n_days &lt;dbl&gt; |\n",
       "|---|---|---|---|\n",
       "| 1.02 |        NA |         NA | NA |\n",
       "| 1.05 |        NA |         NA | NA |\n",
       "| 1.10 | 3944.5589 | 0.61197699 | 19 |\n",
       "| 1.20 |  351.1877 | 0.05448488 |  2 |\n",
       "| 1.30 |  139.7709 | 0.02168470 |  1 |\n",
       "\n"
      ],
      "text/plain": [
       "  delta n_treatment n_months   n_days\n",
       "1 1.02         NA           NA NA    \n",
       "2 1.05         NA           NA NA    \n",
       "3 1.10  3944.5589   0.61197699 19    \n",
       "4 1.20   351.1877   0.05448488  2    \n",
       "5 1.30   139.7709   0.02168470  1    "
      ]
     },
     "metadata": {},
     "output_type": "display_data"
    }
   ],
   "source": [
    "activation_counts %>%\n",
    "    mutate(n_months = n_treatment / treatment_group_registrations,\n",
    "           n_days = ceiling(n_months * 30))"
   ]
  },
  {
   "cell_type": "code",
   "execution_count": 18,
   "id": "debf3775",
   "metadata": {},
   "outputs": [],
   "source": [
    "retention_counts = calc_edit_power(retention_rate, retention_deltas, control_group_activations)"
   ]
  },
  {
   "cell_type": "code",
   "execution_count": 19,
   "id": "3e2a9e0d",
   "metadata": {},
   "outputs": [
    {
     "data": {
      "text/html": [
       "<table>\n",
       "<caption>A tibble: 11 × 4</caption>\n",
       "<thead>\n",
       "\t<tr><th scope=col>delta</th><th scope=col>n_treatment</th><th scope=col>n_months</th><th scope=col>n_days</th></tr>\n",
       "\t<tr><th scope=col>&lt;dbl&gt;</th><th scope=col>&lt;dbl&gt;</th><th scope=col>&lt;dbl&gt;</th><th scope=col>&lt;dbl&gt;</th></tr>\n",
       "</thead>\n",
       "<tbody>\n",
       "\t<tr><td>0.70</td><td>11613.99</td><td>4.394751</td><td>132</td></tr>\n",
       "\t<tr><td>0.80</td><td>      NA</td><td>      NA</td><td> NA</td></tr>\n",
       "\t<tr><td>0.90</td><td>      NA</td><td>      NA</td><td> NA</td></tr>\n",
       "\t<tr><td>0.95</td><td>      NA</td><td>      NA</td><td> NA</td></tr>\n",
       "\t<tr><td>0.98</td><td>      NA</td><td>      NA</td><td> NA</td></tr>\n",
       "\t<tr><td>1.00</td><td>      NA</td><td>      NA</td><td> NA</td></tr>\n",
       "\t<tr><td>1.02</td><td>      NA</td><td>      NA</td><td> NA</td></tr>\n",
       "\t<tr><td>1.05</td><td>      NA</td><td>      NA</td><td> NA</td></tr>\n",
       "\t<tr><td>1.10</td><td>      NA</td><td>      NA</td><td> NA</td></tr>\n",
       "\t<tr><td>1.20</td><td>      NA</td><td>      NA</td><td> NA</td></tr>\n",
       "\t<tr><td>1.30</td><td>      NA</td><td>      NA</td><td> NA</td></tr>\n",
       "</tbody>\n",
       "</table>\n"
      ],
      "text/latex": [
       "A tibble: 11 × 4\n",
       "\\begin{tabular}{llll}\n",
       " delta & n\\_treatment & n\\_months & n\\_days\\\\\n",
       " <dbl> & <dbl> & <dbl> & <dbl>\\\\\n",
       "\\hline\n",
       "\t 0.70 & 11613.99 & 4.394751 & 132\\\\\n",
       "\t 0.80 &       NA &       NA &  NA\\\\\n",
       "\t 0.90 &       NA &       NA &  NA\\\\\n",
       "\t 0.95 &       NA &       NA &  NA\\\\\n",
       "\t 0.98 &       NA &       NA &  NA\\\\\n",
       "\t 1.00 &       NA &       NA &  NA\\\\\n",
       "\t 1.02 &       NA &       NA &  NA\\\\\n",
       "\t 1.05 &       NA &       NA &  NA\\\\\n",
       "\t 1.10 &       NA &       NA &  NA\\\\\n",
       "\t 1.20 &       NA &       NA &  NA\\\\\n",
       "\t 1.30 &       NA &       NA &  NA\\\\\n",
       "\\end{tabular}\n"
      ],
      "text/markdown": [
       "\n",
       "A tibble: 11 × 4\n",
       "\n",
       "| delta &lt;dbl&gt; | n_treatment &lt;dbl&gt; | n_months &lt;dbl&gt; | n_days &lt;dbl&gt; |\n",
       "|---|---|---|---|\n",
       "| 0.70 | 11613.99 | 4.394751 | 132 |\n",
       "| 0.80 |       NA |       NA |  NA |\n",
       "| 0.90 |       NA |       NA |  NA |\n",
       "| 0.95 |       NA |       NA |  NA |\n",
       "| 0.98 |       NA |       NA |  NA |\n",
       "| 1.00 |       NA |       NA |  NA |\n",
       "| 1.02 |       NA |       NA |  NA |\n",
       "| 1.05 |       NA |       NA |  NA |\n",
       "| 1.10 |       NA |       NA |  NA |\n",
       "| 1.20 |       NA |       NA |  NA |\n",
       "| 1.30 |       NA |       NA |  NA |\n",
       "\n"
      ],
      "text/plain": [
       "   delta n_treatment n_months n_days\n",
       "1  0.70  11613.99    4.394751 132   \n",
       "2  0.80        NA          NA  NA   \n",
       "3  0.90        NA          NA  NA   \n",
       "4  0.95        NA          NA  NA   \n",
       "5  0.98        NA          NA  NA   \n",
       "6  1.00        NA          NA  NA   \n",
       "7  1.02        NA          NA  NA   \n",
       "8  1.05        NA          NA  NA   \n",
       "9  1.10        NA          NA  NA   \n",
       "10 1.20        NA          NA  NA   \n",
       "11 1.30        NA          NA  NA   "
      ]
     },
     "metadata": {},
     "output_type": "display_data"
    }
   ],
   "source": [
    "retention_counts %>%\n",
    "    mutate(n_months = n_treatment / treatment_group_activations,\n",
    "           n_days = ceiling(n_months * 30))"
   ]
  },
  {
   "cell_type": "code",
   "execution_count": 21,
   "id": "0033d0ff",
   "metadata": {},
   "outputs": [],
   "source": [
    "activation_counts_5050 = calc_power_5050(activation_rate, activation_deltas)"
   ]
  },
  {
   "cell_type": "code",
   "execution_count": 23,
   "id": "39ca533c",
   "metadata": {},
   "outputs": [
    {
     "data": {
      "text/html": [
       "<table>\n",
       "<caption>A data.table: 5 × 4</caption>\n",
       "<thead>\n",
       "\t<tr><th scope=col>delta</th><th scope=col>n</th><th scope=col>n_months</th><th scope=col>n_days</th></tr>\n",
       "\t<tr><th scope=col>&lt;dbl&gt;</th><th scope=col>&lt;dbl&gt;</th><th scope=col>&lt;dbl&gt;</th><th scope=col>&lt;dbl&gt;</th></tr>\n",
       "</thead>\n",
       "<tbody>\n",
       "\t<tr><td>1.02</td><td>28320.2243</td><td>3.51498378</td><td>106</td></tr>\n",
       "\t<tr><td>1.05</td><td> 4549.6715</td><td>0.56468555</td><td> 17</td></tr>\n",
       "\t<tr><td>1.10</td><td> 1144.0441</td><td>0.14199381</td><td>  5</td></tr>\n",
       "\t<tr><td>1.20</td><td>  288.3458</td><td>0.03578823</td><td>  2</td></tr>\n",
       "\t<tr><td>1.30</td><td>  128.6150</td><td>0.01596313</td><td>  1</td></tr>\n",
       "</tbody>\n",
       "</table>\n"
      ],
      "text/latex": [
       "A data.table: 5 × 4\n",
       "\\begin{tabular}{llll}\n",
       " delta & n & n\\_months & n\\_days\\\\\n",
       " <dbl> & <dbl> & <dbl> & <dbl>\\\\\n",
       "\\hline\n",
       "\t 1.02 & 28320.2243 & 3.51498378 & 106\\\\\n",
       "\t 1.05 &  4549.6715 & 0.56468555 &  17\\\\\n",
       "\t 1.10 &  1144.0441 & 0.14199381 &   5\\\\\n",
       "\t 1.20 &   288.3458 & 0.03578823 &   2\\\\\n",
       "\t 1.30 &   128.6150 & 0.01596313 &   1\\\\\n",
       "\\end{tabular}\n"
      ],
      "text/markdown": [
       "\n",
       "A data.table: 5 × 4\n",
       "\n",
       "| delta &lt;dbl&gt; | n &lt;dbl&gt; | n_months &lt;dbl&gt; | n_days &lt;dbl&gt; |\n",
       "|---|---|---|---|\n",
       "| 1.02 | 28320.2243 | 3.51498378 | 106 |\n",
       "| 1.05 |  4549.6715 | 0.56468555 |  17 |\n",
       "| 1.10 |  1144.0441 | 0.14199381 |   5 |\n",
       "| 1.20 |   288.3458 | 0.03578823 |   2 |\n",
       "| 1.30 |   128.6150 | 0.01596313 |   1 |\n",
       "\n"
      ],
      "text/plain": [
       "  delta n          n_months   n_days\n",
       "1 1.02  28320.2243 3.51498378 106   \n",
       "2 1.05   4549.6715 0.56468555  17   \n",
       "3 1.10   1144.0441 0.14199381   5   \n",
       "4 1.20    288.3458 0.03578823   2   \n",
       "5 1.30    128.6150 0.01596313   1   "
      ]
     },
     "metadata": {},
     "output_type": "display_data"
    }
   ],
   "source": [
    "activation_counts_5050 %>%\n",
    "    mutate(n_months = n / registration_rate,\n",
    "           n_days = ceiling(n_months * 30))"
   ]
  },
  {
   "cell_type": "code",
   "execution_count": 24,
   "id": "f9b249e4",
   "metadata": {},
   "outputs": [],
   "source": [
    "retention_counts_5050 = calc_power_5050(retention_rate, retention_deltas)"
   ]
  },
  {
   "cell_type": "code",
   "execution_count": 25,
   "id": "119a9b3f",
   "metadata": {},
   "outputs": [
    {
     "data": {
      "text/html": [
       "<table>\n",
       "<caption>A data.table: 11 × 4</caption>\n",
       "<thead>\n",
       "\t<tr><th scope=col>delta</th><th scope=col>n</th><th scope=col>n_months</th><th scope=col>n_days</th></tr>\n",
       "\t<tr><th scope=col>&lt;dbl&gt;</th><th scope=col>&lt;dbl&gt;</th><th scope=col>&lt;dbl&gt;</th><th scope=col>&lt;dbl&gt;</th></tr>\n",
       "</thead>\n",
       "<tbody>\n",
       "\t<tr><td>0.70</td><td>   625.1137</td><td> 0.1892352</td><td>   6</td></tr>\n",
       "\t<tr><td>0.80</td><td>  1487.1790</td><td> 0.4502006</td><td>  14</td></tr>\n",
       "\t<tr><td>0.90</td><td>  6256.1880</td><td> 1.8938805</td><td>  57</td></tr>\n",
       "\t<tr><td>0.95</td><td> 25619.5246</td><td> 7.7555722</td><td> 233</td></tr>\n",
       "\t<tr><td>0.98</td><td>162315.2034</td><td>49.1362467</td><td>1475</td></tr>\n",
       "\t<tr><td>1.00</td><td>         NA</td><td>        NA</td><td>  NA</td></tr>\n",
       "\t<tr><td>1.02</td><td>165198.0996</td><td>50.0089604</td><td>1501</td></tr>\n",
       "\t<tr><td>1.05</td><td> 26772.8731</td><td> 8.1047152</td><td> 244</td></tr>\n",
       "\t<tr><td>1.10</td><td>  6833.2030</td><td> 2.0685551</td><td>  63</td></tr>\n",
       "\t<tr><td>1.20</td><td>  1776.3793</td><td> 0.5377476</td><td>  17</td></tr>\n",
       "\t<tr><td>1.30</td><td>   818.7118</td><td> 0.2478414</td><td>   8</td></tr>\n",
       "</tbody>\n",
       "</table>\n"
      ],
      "text/latex": [
       "A data.table: 11 × 4\n",
       "\\begin{tabular}{llll}\n",
       " delta & n & n\\_months & n\\_days\\\\\n",
       " <dbl> & <dbl> & <dbl> & <dbl>\\\\\n",
       "\\hline\n",
       "\t 0.70 &    625.1137 &  0.1892352 &    6\\\\\n",
       "\t 0.80 &   1487.1790 &  0.4502006 &   14\\\\\n",
       "\t 0.90 &   6256.1880 &  1.8938805 &   57\\\\\n",
       "\t 0.95 &  25619.5246 &  7.7555722 &  233\\\\\n",
       "\t 0.98 & 162315.2034 & 49.1362467 & 1475\\\\\n",
       "\t 1.00 &          NA &         NA &   NA\\\\\n",
       "\t 1.02 & 165198.0996 & 50.0089604 & 1501\\\\\n",
       "\t 1.05 &  26772.8731 &  8.1047152 &  244\\\\\n",
       "\t 1.10 &   6833.2030 &  2.0685551 &   63\\\\\n",
       "\t 1.20 &   1776.3793 &  0.5377476 &   17\\\\\n",
       "\t 1.30 &    818.7118 &  0.2478414 &    8\\\\\n",
       "\\end{tabular}\n"
      ],
      "text/markdown": [
       "\n",
       "A data.table: 11 × 4\n",
       "\n",
       "| delta &lt;dbl&gt; | n &lt;dbl&gt; | n_months &lt;dbl&gt; | n_days &lt;dbl&gt; |\n",
       "|---|---|---|---|\n",
       "| 0.70 |    625.1137 |  0.1892352 |    6 |\n",
       "| 0.80 |   1487.1790 |  0.4502006 |   14 |\n",
       "| 0.90 |   6256.1880 |  1.8938805 |   57 |\n",
       "| 0.95 |  25619.5246 |  7.7555722 |  233 |\n",
       "| 0.98 | 162315.2034 | 49.1362467 | 1475 |\n",
       "| 1.00 |          NA |         NA |   NA |\n",
       "| 1.02 | 165198.0996 | 50.0089604 | 1501 |\n",
       "| 1.05 |  26772.8731 |  8.1047152 |  244 |\n",
       "| 1.10 |   6833.2030 |  2.0685551 |   63 |\n",
       "| 1.20 |   1776.3793 |  0.5377476 |   17 |\n",
       "| 1.30 |    818.7118 |  0.2478414 |    8 |\n",
       "\n"
      ],
      "text/plain": [
       "   delta n           n_months   n_days\n",
       "1  0.70     625.1137  0.1892352    6  \n",
       "2  0.80    1487.1790  0.4502006   14  \n",
       "3  0.90    6256.1880  1.8938805   57  \n",
       "4  0.95   25619.5246  7.7555722  233  \n",
       "5  0.98  162315.2034 49.1362467 1475  \n",
       "6  1.00           NA         NA   NA  \n",
       "7  1.02  165198.0996 50.0089604 1501  \n",
       "8  1.05   26772.8731  8.1047152  244  \n",
       "9  1.10    6833.2030  2.0685551   63  \n",
       "10 1.20    1776.3793  0.5377476   17  \n",
       "11 1.30     818.7118  0.2478414    8  "
      ]
     },
     "metadata": {},
     "output_type": "display_data"
    }
   ],
   "source": [
    "retention_counts_5050 %>%\n",
    "    mutate(n_months = n / (registration_rate * activation_rate),\n",
    "           n_days = ceiling(n_months * 30))"
   ]
  }
 ],
 "metadata": {
  "kernelspec": {
   "display_name": "R",
   "language": "R",
   "name": "ir"
  },
  "language_info": {
   "codemirror_mode": "r",
   "file_extension": ".r",
   "mimetype": "text/x-r-source",
   "name": "R",
   "pygments_lexer": "r",
   "version": "3.5.2"
  }
 },
 "nbformat": 4,
 "nbformat_minor": 5
}
